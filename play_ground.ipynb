{
 "cells": [
  {
   "cell_type": "code",
   "execution_count": 1,
   "id": "d04b9bbb",
   "metadata": {},
   "outputs": [],
   "source": [
    "import config\n",
    "from main import Probe"
   ]
  },
  {
   "cell_type": "code",
   "execution_count": 2,
   "id": "c2a7e752-3129-402f-bdbe-ec8c636e4abf",
   "metadata": {},
   "outputs": [
    {
     "name": "stdout",
     "output_type": "stream",
     "text": [
      "robot is connected:  True\n"
     ]
    },
    {
     "data": {
      "text/plain": [
       "True"
      ]
     },
     "execution_count": 2,
     "metadata": {},
     "output_type": "execute_result"
    }
   ],
   "source": [
    "p = Probe(config)\n",
    "p.connect([\"robot\"])"
   ]
  },
  {
   "cell_type": "code",
   "execution_count": 3,
   "id": "fc75bd6b-fd64-4fb3-b6f7-f7e3132597df",
   "metadata": {},
   "outputs": [
    {
     "data": {
      "text/plain": [
       "2.0"
      ]
     },
     "execution_count": 3,
     "metadata": {},
     "output_type": "execute_result"
    }
   ],
   "source": [
    "# startup\n",
    "p.startup()"
   ]
  },
  {
   "cell_type": "code",
   "execution_count": 12,
   "id": "bb88d2c2-4206-49ce-8455-662ad65979b5",
   "metadata": {},
   "outputs": [],
   "source": [
    "\"\"\"\n",
    "joystick\n",
    "\"\"\"\n",
    "# engage\n",
    "p.joystick_engage()\n",
    "\n",
    "# motion\n",
    "p.joystick(\"up\", 1)\n",
    "p.joystick(\"down\", 1)\n",
    "p.joystick(\"left\", 1)\n",
    "p.joystick(\"right\", 1)\n",
    "\n",
    "# disengage\n",
    "p.joystick_disengage()"
   ]
  },
  {
   "cell_type": "code",
   "execution_count": 13,
   "id": "8f65b908-ecaf-4d17-bb57-d4ad7e792dae",
   "metadata": {},
   "outputs": [],
   "source": [
    "\"\"\"\n",
    "switches\n",
    "\"\"\"\n",
    "# switch_alarm\n",
    "p.switch_alarm_engage()\n",
    "p.switch_alarm(\"up\", 2)\n",
    "p.switch_alarm(\"down\", 2)\n",
    "p.switch_alarm_disengage()\n",
    "\n",
    "\n",
    "# switch_in_out\n",
    "p.switch_in_out_engage()\n",
    "p.switch_in_out(\"in\", 2)\n",
    "p.switch_in_out(\"out\", 2)\n",
    "p.switch_in_out_disengage()\n",
    "\n",
    "# switch_on_off\n",
    "p.switch_on_off_engage()\n",
    "p.switch_on_off(\"on\")\n",
    "p.switch_on_off(\"off\")\n",
    "p.switch_on_off_disengage()\n",
    "\n",
    "# switch_vac\n",
    "p.switch_vac_engage()\n",
    "p.switch_vac(\"on\")\n",
    "p.switch_vac(\"off\")\n",
    "p.switch_vac_disengage()"
   ]
  },
  {
   "cell_type": "code",
   "execution_count": 8,
   "id": "6a788192-88e2-44a5-8575-f24291bf264f",
   "metadata": {},
   "outputs": [],
   "source": [
    "p.close()"
   ]
  }
 ],
 "metadata": {
  "kernelspec": {
   "display_name": "Python 3 (ipykernel)",
   "language": "python",
   "name": "python3"
  },
  "language_info": {
   "codemirror_mode": {
    "name": "ipython",
    "version": 3
   },
   "file_extension": ".py",
   "mimetype": "text/x-python",
   "name": "python",
   "nbconvert_exporter": "python",
   "pygments_lexer": "ipython3",
   "version": "3.9.7"
  }
 },
 "nbformat": 4,
 "nbformat_minor": 5
}
